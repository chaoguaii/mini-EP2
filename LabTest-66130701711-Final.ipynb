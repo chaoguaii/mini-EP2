{
 "cells": [
  {
   "cell_type": "markdown",
   "id": "c8746d71-5a25-4866-bc09-751e026432d7",
   "metadata": {},
   "source": [
    "#  LabTest: ML model deployment\n",
    "\n"
   ]
  },
  {
   "cell_type": "markdown",
   "id": "8dc1ba0b-ed6c-4b00-b30f-7efc686db16f",
   "metadata": {},
   "source": [
    "ปรับแต่งโค้ดที่ให้มาเพื่อสร้างโมเดล และ Deploy บน Streamlit \n",
    "\n",
    "\n",
    " ส่ง \n",
    "- LabTest-xxx.ipynb\n",
    "- model_penguin_xxx.pkl\n",
    "- app_predict_penguin_XXX.py\n",
    "- LabTest-xxx.pdf\n"
   ]
  },
  {
   "cell_type": "markdown",
   "id": "373a1f9d-b9b1-4292-9890-789bcc49c6cb",
   "metadata": {},
   "source": [
    "## Import Packages"
   ]
  },
  {
   "cell_type": "code",
   "execution_count": null,
   "id": "e250857a",
   "metadata": {},
   "outputs": [],
   "source": [
    "\n",
    "from sklearn.pipeline import Pipeline\n",
    "from sklearn.preprocessing import StandardScaler\n",
    "from sklearn.ensemble import RandomForestClassifier\n",
    "from sklearn.metrics import classification_report, accuracy_score\n",
    "\n",
    "# Define the pipeline\n",
    "model = Pipeline(steps=[\n",
    "    ('scaler', StandardScaler()),  # Normalization step\n",
    "    ('classifier', RandomForestClassifier(random_state=66130701711))  # Random Forest Classifier\n",
    "])\n",
    "\n",
    "# Fit the pipeline\n",
    "model.fit(X_train, y_train)\n",
    "\n",
    "# Evaluate the model\n",
    "y_pred = model.predict(X_test)\n",
    "print(\"Accuracy:\", accuracy_score(y_test, y_pred))\n",
    "print(classification_report(y_test, y_pred))\n"
   ]
  },
  {
   "cell_type": "markdown",
   "id": "12102d90-9e1e-402f-91da-d1b5a1037a5c",
   "metadata": {},
   "source": [
    "## Prepare Data"
   ]
  },
  {
   "cell_type": "code",
   "execution_count": null,
   "id": "b694b678-4a4a-4ef1-bda5-4c72d79cb541",
   "metadata": {},
   "outputs": [],
   "source": [
    "df_org = pd.read_csv(\"penguins_size.csv\")\n",
    "df_org.head()"
   ]
  },
  {
   "cell_type": "markdown",
   "id": "df22bf97-eaf2-466c-86bd-cee07b780b2a",
   "metadata": {},
   "source": [
    "## Handle Missing Data "
   ]
  },
  {
   "cell_type": "code",
   "execution_count": null,
   "id": "b7c3f1fb-0610-4184-8132-962de555a056",
   "metadata": {},
   "outputs": [],
   "source": [
    "df.isna().sum()/len(df)*100"
   ]
  },
  {
   "cell_type": "code",
   "execution_count": null,
   "id": "9d6c712b-531a-4e62-a3a6-5dc5de1ee4e2",
   "metadata": {},
   "outputs": [],
   "source": [
    "df= df.dropna(subset = ['culmen_length_mm', 'culmen_depth_mm','flipper_length_mm', 'body_mass_g'])\n",
    "df['sex'] = df['sex'].fillna(df['sex'].mode()[0])\n",
    "df['sex'] = df['sex'].replace(to_replace='.', value = df['sex'].mode()[0])"
   ]
  },
  {
   "cell_type": "code",
   "execution_count": null,
   "id": "09fed418-3471-4bd8-b6bf-374f0f41c19d",
   "metadata": {},
   "outputs": [],
   "source": [
    "df.isna().sum()/len(df)*100"
   ]
  },
  {
   "cell_type": "markdown",
   "id": "2e380d78-569b-4f6b-93e5-bdc518109ce8",
   "metadata": {},
   "source": [
    "## Categotical Encoding"
   ]
  },
  {
   "cell_type": "code",
   "execution_count": null,
   "id": "7f335472-8d30-4fa7-858d-bb67e138dfe0",
   "metadata": {
    "tags": []
   },
   "outputs": [],
   "source": [
    "df.columns"
   ]
  },
  {
   "cell_type": "code",
   "execution_count": null,
   "id": "70a31e9d-bb50-42c0-92dd-4165c9027467",
   "metadata": {
    "tags": []
   },
   "outputs": [],
   "source": [
    "df['species'].unique()\n",
    "# df['island'].unique()\n",
    "# df['sex'].unique()"
   ]
  },
  {
   "cell_type": "code",
   "execution_count": null,
   "id": "b2a2ff55-10f1-4ada-91fe-16d01d792d71",
   "metadata": {
    "tags": []
   },
   "outputs": [],
   "source": [
    "#Encoding the object columns.\n",
    "from sklearn.preprocessing import LabelEncoder\n",
    "\n",
    "# species_encoder = LabelEncoder().fit(['Adelie', 'Chinstrap', 'Gentoo'])\n",
    "species_encoder = LabelEncoder().fit(df['species'])\n",
    "\n",
    "# island_encoder = LabelEncoder().fit(['Torgersen', 'Biscoe', 'Dream'])\n",
    "island_encoder = LabelEncoder().fit(df['island'])\n",
    "\n",
    "# sex_encoder = LabelEncoder().fit(['MALE', 'FEMALE'])\n",
    "sex_encoder = LabelEncoder().fit(df['sex'])\n"
   ]
  },
  {
   "cell_type": "code",
   "execution_count": null,
   "id": "dec45233-989c-4e45-b46c-6fcec61bd4c2",
   "metadata": {
    "tags": []
   },
   "outputs": [],
   "source": [
    "species_encoder.classes_"
   ]
  },
  {
   "cell_type": "markdown",
   "id": "76cfa5b7-9f3d-473d-bf2c-f491129658ac",
   "metadata": {},
   "source": [
    "## Train/Test Data Split "
   ]
  },
  {
   "cell_type": "code",
   "execution_count": null,
   "id": "d131bf88-996d-4e54-9d24-ebc486994488",
   "metadata": {
    "tags": []
   },
   "outputs": [],
   "source": [
    "X = df.drop('species', axis=1)\n",
    "y = df['species']"
   ]
  },
  {
   "cell_type": "code",
   "execution_count": null,
   "id": "25d2ca31-189d-44d4-90e3-f7d418d8f74e",
   "metadata": {
    "tags": []
   },
   "outputs": [],
   "source": [
    "# Split data into features and target\n",
    "# Split data into train and test sets\n",
    "X_train, X_test, y_train, y_test = train_test_split(X, y, test_size=0.2, random_state=42)"
   ]
  },
  {
   "cell_type": "markdown",
   "id": "38b743e3-e196-4358-b029-16a0fbf59cec",
   "metadata": {},
   "source": [
    "## Trining / Create Model using XXX Alg"
   ]
  },
  {
   "cell_type": "code",
   "execution_count": null,
   "id": "fca7d003-813b-4d1f-be31-31113e0f69af",
   "metadata": {
    "tags": []
   },
   "outputs": [],
   "source": [
    "# Define the pipeline\n",
    "model = Pipeline(steps=[\n",
    "    ('scaler', StandardScaler()),  # Normalization step\n",
    "    ('classifier', XXX(66130701711))  # You can replace this with any other classifier\n",
    "])\n",
    "\n",
    "# Fit the pipeline\n",
    "model.fit(X_train, y_train)\n"
   ]
  },
  {
   "cell_type": "markdown",
   "id": "8206fb28-1ec5-4aed-9ca0-bdb32ed11d05",
   "metadata": {},
   "source": [
    "## Testing / Evaluation"
   ]
  },
  {
   "cell_type": "code",
   "execution_count": null,
   "id": "5533f292-d3e8-4490-883f-7445202a11b0",
   "metadata": {
    "tags": []
   },
   "outputs": [],
   "source": [
    "# Make predictions\n",
    "y_pred = model.predict(X_test)\n",
    "\n",
    "summary_eval = classification_report(y_test,y_pred,digits=4)\n",
    "print(summary_eval)\n",
    "\n",
    "# Calculate the confusion matrix\n",
    "cm = confusion_matrix(y_test, y_pred)\n",
    "\n",
    "# Plot the confusion matrix using seaborn heatmap\n",
    "plt.figure(figsize=(6, 4))\n",
    "sns.heatmap(cm, annot=True, fmt='d', cmap='Blues', xticklabels=species_encoder.inverse_transform(model.named_steps['classifier'].classes_),\n",
    "            yticklabels=species_encoder.inverse_transform(model.named_steps['classifier'].classes_))\n",
    "plt.title('Confusion Matrix')\n",
    "plt.xlabel('Predicted')\n",
    "plt.ylabel('True')\n",
    "# Save the plot as an image file (e.g., PNG)\n",
    "plt.savefig('confusion_matrix_knn.png')\n",
    "\n",
    "plt.show()"
   ]
  },
  {
   "cell_type": "markdown",
   "id": "3e76815c-6880-4e38-bbe7-bbb790448b7a",
   "metadata": {},
   "source": [
    "## Save Model and etc."
   ]
  },
  {
   "cell_type": "code",
   "execution_count": null,
   "id": "4d90afb2-f724-4832-bf6f-15fe01f893fa",
   "metadata": {
    "tags": []
   },
   "outputs": [],
   "source": [
    "# Create a tuple or any container object with your variables\n",
    "data_to_save = (model, species_encoder, island_encoder ,sex_encoder)\n",
    "\n",
    "# Open a file in binary write mode\n",
    "with open('model_penguin_66130701711.pkl', 'wb') as file:\n",
    "    # Save the container object\n",
    "    pickle.dump(data_to_save, file)"
   ]
  },
  {
   "cell_type": "markdown",
   "id": "4ca37030-72ce-4411-a4bc-bc50234d3b7d",
   "metadata": {},
   "source": [
    "## Load Model and Prediction\n",
    "\n",
    "Kernel -> Restart Kernel.."
   ]
  },
  {
   "cell_type": "code",
   "execution_count": null,
   "id": "b1eb16cd-3b32-49a9-ad98-e949feeea97c",
   "metadata": {},
   "outputs": [],
   "source": [
    "import pickle\n",
    "import pandas as pd"
   ]
  },
  {
   "cell_type": "code",
   "execution_count": null,
   "id": "9b7132fa-4cd5-4124-9ec2-c7c26dcf35ce",
   "metadata": {
    "tags": []
   },
   "outputs": [],
   "source": [
    "\n",
    "with open('knn_penguin.pkl', 'rb') as file:\n",
    "    # Load the data from the file\n",
    "    model, species_encoder, island_encoder ,sex_encoder = pickle.load(file)"
   ]
  },
  {
   "cell_type": "markdown",
   "id": "941fad1e-f216-4035-9a2b-49ab3ff15d07",
   "metadata": {},
   "source": [
    "### New data"
   ]
  },
  {
   "cell_type": "code",
   "execution_count": null,
   "id": "168bfb20-a771-4ca7-bcfd-426e3af8b509",
   "metadata": {
    "tags": []
   },
   "outputs": [],
   "source": [
    "x_new =  pd.DataFrame() \n",
    "x_new['island'] = ['Torgersen']\n",
    "x_new['culmen_length_mm'] = [37.0]\n",
    "x_new['culmen_depth_mm'] = [19.3]\n",
    "x_new['flipper_length_mm'] = [192.3]\n",
    "x_new['body_mass_g'] = [3750]\n",
    "x_new['sex'] = ['MALE']\n"
   ]
  },
  {
   "cell_type": "markdown",
   "id": "7eab337b-64ac-493a-a30f-60922182e641",
   "metadata": {},
   "source": [
    "### Categorical Data Encoding"
   ]
  },
  {
   "cell_type": "code",
   "execution_count": null,
   "id": "b5389158-b458-4491-aeb2-bb0d0c84bccc",
   "metadata": {
    "tags": []
   },
   "outputs": [],
   "source": [
    "x_new['island'] = island_encoder.transform(x_new['island'])\n",
    "x_new['sex'] = sex_encoder.transform(x_new['sex'])\n"
   ]
  },
  {
   "cell_type": "markdown",
   "id": "61778b6f-8dc7-4f8a-93d6-efc2871ad58b",
   "metadata": {},
   "source": [
    "### Predicting"
   ]
  },
  {
   "cell_type": "code",
   "execution_count": null,
   "id": "7faa0e10-d24a-4e39-9cb3-1cd6f7dc9cdb",
   "metadata": {
    "tags": []
   },
   "outputs": [],
   "source": [
    "y_pred_new = model.predict(x_new)\n",
    "\n",
    "result = species_encoder.inverse_transform(y_pred_new) \n",
    "\n",
    "print('Predicted Specie: ', result)"
   ]
  },
  {
   "cell_type": "markdown",
   "id": "48edda2d-50d4-409a-9297-29380ae4580b",
   "metadata": {},
   "source": [
    "### Create app_predict_knn_penguin.py for Running with streamlit\n",
    "\n",
    "https://docs.streamlit.io/library/api-reference\n",
    "\n",
    "streamlit run app_predict_knn_penguin.py"
   ]
  },
  {
   "cell_type": "code",
   "execution_count": null,
   "id": "ff5b8c16-df67-4169-935e-c6b9de7813fe",
   "metadata": {
    "tags": []
   },
   "outputs": [],
   "source": [
    "%%writefile app_predict_penguin_XXX.py\n",
    "\n",
    "\n",
    "#66130701711x\n",
    "\n"
   ]
  },
  {
   "cell_type": "markdown",
   "id": "6afc49af-8a5c-427f-9d92-e11998ec02d8",
   "metadata": {
    "tags": []
   },
   "source": [
    "## Deploy on Streamlit Sharing\n",
    "\n",
    "https://share.streamlit.io/\n",
    "\n",
    "https://github.com/\n",
    "\n"
   ]
  },
  {
   "cell_type": "code",
   "execution_count": null,
   "id": "f7337fba-cffc-499c-8f19-9601fbe03d69",
   "metadata": {},
   "outputs": [],
   "source": [
    "%%writefile requirements.txt\n",
    "\n",
    "scikit-learn\n",
    "pandas\n",
    " "
   ]
  },
  {
   "cell_type": "code",
   "execution_count": null,
   "id": "bf07e024",
   "metadata": {},
   "outputs": [],
   "source": [
    "\n",
    "# Import required libraries\n",
    "from sklearn.pipeline import Pipeline\n",
    "from sklearn.preprocessing import StandardScaler\n",
    "from sklearn.ensemble import RandomForestClassifier\n",
    "from sklearn.model_selection import GridSearchCV\n",
    "from sklearn.metrics import accuracy_score, classification_report\n",
    "import pandas as pd\n",
    "from sklearn.model_selection import train_test_split\n",
    "\n",
    "# Load the penguins dataset\n",
    "file_path = '/mnt/data/penguins_size.csv'\n",
    "data = pd.read_csv(file_path)\n",
    "\n",
    "# Preprocessing: Handle missing values by dropping rows with NaN values\n",
    "data_cleaned = data.dropna()\n",
    "\n",
    "# Separate features (X) and target (y)\n",
    "X = data_cleaned.drop(columns='species')\n",
    "X = pd.get_dummies(X, drop_first=True)  # Encode categorical variables\n",
    "y = data_cleaned['species']\n",
    "\n",
    "# Split data into training and testing sets\n",
    "X_train, X_test, y_train, y_test = train_test_split(X, y, test_size=0.2, random_state=42, stratify=y)\n",
    "\n",
    "# Define the pipeline\n",
    "model = Pipeline(steps=[\n",
    "    ('scaler', StandardScaler()),  # Normalization step\n",
    "    ('rf', RandomForestClassifier(random_state=42))  # Random Forest Classifier\n",
    "])\n",
    "\n",
    "# Define the parameter grid for GridSearchCV\n",
    "param_grid = {\n",
    "    'rf__n_estimators': [10, 100, 1000],\n",
    "    'rf__max_depth': [None, 10, 20],\n",
    "}\n",
    "\n",
    "# Create GridSearchCV\n",
    "grid_search = GridSearchCV(model, param_grid, cv=5, scoring='accuracy')\n",
    "\n",
    "# Fit the pipeline with GridSearchCV\n",
    "grid_search.fit(X_train, y_train)\n",
    "\n",
    "# Access the best parameters and best estimator\n",
    "best_params = grid_search.best_params_\n",
    "best_estimator = grid_search.best_estimator_\n",
    "\n",
    "# Evaluate the best model on the test data\n",
    "y_pred = best_estimator.predict(X_test)\n",
    "accuracy = accuracy_score(y_test, y_pred)\n",
    "report = classification_report(y_test, y_pred)\n",
    "\n",
    "# Output the results\n",
    "print(\"Best Parameters:\", best_params)\n",
    "print(\"Accuracy on Test Set:\", accuracy)\n",
    "print(\"Classification Report:\\n\", report)\n"
   ]
  }
 ],
 "metadata": {
  "kernelspec": {
   "display_name": "Python 3 (ipykernel)",
   "language": "python",
   "name": "python3"
  },
  "language_info": {
   "codemirror_mode": {
    "name": "ipython",
    "version": 3
   },
   "file_extension": ".py",
   "mimetype": "text/x-python",
   "name": "python",
   "nbconvert_exporter": "python",
   "pygments_lexer": "ipython3",
   "version": "3.11.3"
  }
 },
 "nbformat": 4,
 "nbformat_minor": 5
}
